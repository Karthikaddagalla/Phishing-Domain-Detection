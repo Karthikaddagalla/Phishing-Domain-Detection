{
 "cells": [
  {
   "cell_type": "code",
   "execution_count": 1,
   "id": "5a1ee74e",
   "metadata": {},
   "outputs": [],
   "source": [
    "import pandas as pd\n",
    "import numpy as np\n",
    "import seaborn as sns\n",
    "import matplotlib.pyplot as plt\n",
    "import re\n",
    "from sklearn.preprocessing import MinMaxScaler\n",
    "from sklearn.model_selection import train_test_split\n",
    "from sklearn.metrics import confusion_matrix\n",
    "from sklearn.preprocessing import StandardScaler"
   ]
  },
  {
   "cell_type": "code",
   "execution_count": 5,
   "id": "b172a393",
   "metadata": {},
   "outputs": [],
   "source": [
    "%matplotlib inline"
   ]
  },
  {
   "cell_type": "markdown",
   "id": "aab6481f",
   "metadata": {},
   "source": [
    "# Dataset (Smaller)"
   ]
  },
  {
   "cell_type": "code",
   "execution_count": 6,
   "id": "e022a9cd",
   "metadata": {},
   "outputs": [
    {
     "data": {
      "text/html": [
       "<div>\n",
       "<style scoped>\n",
       "    .dataframe tbody tr th:only-of-type {\n",
       "        vertical-align: middle;\n",
       "    }\n",
       "\n",
       "    .dataframe tbody tr th {\n",
       "        vertical-align: top;\n",
       "    }\n",
       "\n",
       "    .dataframe thead th {\n",
       "        text-align: right;\n",
       "    }\n",
       "</style>\n",
       "<table border=\"1\" class=\"dataframe\">\n",
       "  <thead>\n",
       "    <tr style=\"text-align: right;\">\n",
       "      <th></th>\n",
       "      <th>qty_dot_url</th>\n",
       "      <th>qty_hyphen_url</th>\n",
       "      <th>qty_underline_url</th>\n",
       "      <th>qty_slash_url</th>\n",
       "      <th>qty_questionmark_url</th>\n",
       "      <th>qty_equal_url</th>\n",
       "      <th>qty_at_url</th>\n",
       "      <th>qty_and_url</th>\n",
       "      <th>qty_exclamation_url</th>\n",
       "      <th>qty_space_url</th>\n",
       "      <th>...</th>\n",
       "      <th>qty_ip_resolved</th>\n",
       "      <th>qty_nameservers</th>\n",
       "      <th>qty_mx_servers</th>\n",
       "      <th>ttl_hostname</th>\n",
       "      <th>tls_ssl_certificate</th>\n",
       "      <th>qty_redirects</th>\n",
       "      <th>url_google_index</th>\n",
       "      <th>domain_google_index</th>\n",
       "      <th>url_shortened</th>\n",
       "      <th>phishing</th>\n",
       "    </tr>\n",
       "  </thead>\n",
       "  <tbody>\n",
       "    <tr>\n",
       "      <th>0</th>\n",
       "      <td>2</td>\n",
       "      <td>0</td>\n",
       "      <td>0</td>\n",
       "      <td>0</td>\n",
       "      <td>0</td>\n",
       "      <td>0</td>\n",
       "      <td>0</td>\n",
       "      <td>0</td>\n",
       "      <td>0</td>\n",
       "      <td>0</td>\n",
       "      <td>...</td>\n",
       "      <td>1</td>\n",
       "      <td>4</td>\n",
       "      <td>2</td>\n",
       "      <td>3598</td>\n",
       "      <td>0</td>\n",
       "      <td>0</td>\n",
       "      <td>0</td>\n",
       "      <td>0</td>\n",
       "      <td>0</td>\n",
       "      <td>0</td>\n",
       "    </tr>\n",
       "    <tr>\n",
       "      <th>1</th>\n",
       "      <td>4</td>\n",
       "      <td>0</td>\n",
       "      <td>0</td>\n",
       "      <td>2</td>\n",
       "      <td>0</td>\n",
       "      <td>0</td>\n",
       "      <td>0</td>\n",
       "      <td>0</td>\n",
       "      <td>0</td>\n",
       "      <td>0</td>\n",
       "      <td>...</td>\n",
       "      <td>1</td>\n",
       "      <td>4</td>\n",
       "      <td>1</td>\n",
       "      <td>3977</td>\n",
       "      <td>1</td>\n",
       "      <td>0</td>\n",
       "      <td>0</td>\n",
       "      <td>0</td>\n",
       "      <td>0</td>\n",
       "      <td>0</td>\n",
       "    </tr>\n",
       "    <tr>\n",
       "      <th>2</th>\n",
       "      <td>1</td>\n",
       "      <td>0</td>\n",
       "      <td>0</td>\n",
       "      <td>1</td>\n",
       "      <td>0</td>\n",
       "      <td>0</td>\n",
       "      <td>0</td>\n",
       "      <td>0</td>\n",
       "      <td>0</td>\n",
       "      <td>0</td>\n",
       "      <td>...</td>\n",
       "      <td>1</td>\n",
       "      <td>2</td>\n",
       "      <td>1</td>\n",
       "      <td>10788</td>\n",
       "      <td>0</td>\n",
       "      <td>0</td>\n",
       "      <td>0</td>\n",
       "      <td>0</td>\n",
       "      <td>0</td>\n",
       "      <td>0</td>\n",
       "    </tr>\n",
       "    <tr>\n",
       "      <th>3</th>\n",
       "      <td>2</td>\n",
       "      <td>0</td>\n",
       "      <td>0</td>\n",
       "      <td>3</td>\n",
       "      <td>0</td>\n",
       "      <td>0</td>\n",
       "      <td>0</td>\n",
       "      <td>0</td>\n",
       "      <td>0</td>\n",
       "      <td>0</td>\n",
       "      <td>...</td>\n",
       "      <td>1</td>\n",
       "      <td>2</td>\n",
       "      <td>1</td>\n",
       "      <td>14339</td>\n",
       "      <td>1</td>\n",
       "      <td>0</td>\n",
       "      <td>0</td>\n",
       "      <td>0</td>\n",
       "      <td>0</td>\n",
       "      <td>1</td>\n",
       "    </tr>\n",
       "    <tr>\n",
       "      <th>4</th>\n",
       "      <td>1</td>\n",
       "      <td>1</td>\n",
       "      <td>0</td>\n",
       "      <td>4</td>\n",
       "      <td>0</td>\n",
       "      <td>0</td>\n",
       "      <td>0</td>\n",
       "      <td>0</td>\n",
       "      <td>0</td>\n",
       "      <td>0</td>\n",
       "      <td>...</td>\n",
       "      <td>1</td>\n",
       "      <td>2</td>\n",
       "      <td>1</td>\n",
       "      <td>389</td>\n",
       "      <td>1</td>\n",
       "      <td>1</td>\n",
       "      <td>0</td>\n",
       "      <td>0</td>\n",
       "      <td>0</td>\n",
       "      <td>1</td>\n",
       "    </tr>\n",
       "  </tbody>\n",
       "</table>\n",
       "<p>5 rows × 112 columns</p>\n",
       "</div>"
      ],
      "text/plain": [
       "   qty_dot_url  qty_hyphen_url  qty_underline_url  qty_slash_url  \\\n",
       "0            2               0                  0              0   \n",
       "1            4               0                  0              2   \n",
       "2            1               0                  0              1   \n",
       "3            2               0                  0              3   \n",
       "4            1               1                  0              4   \n",
       "\n",
       "   qty_questionmark_url  qty_equal_url  qty_at_url  qty_and_url  \\\n",
       "0                     0              0           0            0   \n",
       "1                     0              0           0            0   \n",
       "2                     0              0           0            0   \n",
       "3                     0              0           0            0   \n",
       "4                     0              0           0            0   \n",
       "\n",
       "   qty_exclamation_url  qty_space_url  ...  qty_ip_resolved  qty_nameservers  \\\n",
       "0                    0              0  ...                1                4   \n",
       "1                    0              0  ...                1                4   \n",
       "2                    0              0  ...                1                2   \n",
       "3                    0              0  ...                1                2   \n",
       "4                    0              0  ...                1                2   \n",
       "\n",
       "   qty_mx_servers  ttl_hostname  tls_ssl_certificate  qty_redirects  \\\n",
       "0               2          3598                    0              0   \n",
       "1               1          3977                    1              0   \n",
       "2               1         10788                    0              0   \n",
       "3               1         14339                    1              0   \n",
       "4               1           389                    1              1   \n",
       "\n",
       "   url_google_index  domain_google_index  url_shortened  phishing  \n",
       "0                 0                    0              0         0  \n",
       "1                 0                    0              0         0  \n",
       "2                 0                    0              0         0  \n",
       "3                 0                    0              0         1  \n",
       "4                 0                    0              0         1  \n",
       "\n",
       "[5 rows x 112 columns]"
      ]
     },
     "execution_count": 6,
     "metadata": {},
     "output_type": "execute_result"
    }
   ],
   "source": [
    "df = pd.read_csv(\"dataset_small.csv\")\n",
    "df.head()\n"
   ]
  },
  {
   "cell_type": "markdown",
   "id": "a7856844",
   "metadata": {},
   "source": [
    "# Info about Dataset"
   ]
  },
  {
   "cell_type": "code",
   "execution_count": 8,
   "id": "377ba75c",
   "metadata": {},
   "outputs": [
    {
     "name": "stdout",
     "output_type": "stream",
     "text": [
      "<class 'pandas.core.frame.DataFrame'>\n",
      "RangeIndex: 58645 entries, 0 to 58644\n",
      "Columns: 112 entries, qty_dot_url to phishing\n",
      "dtypes: float64(1), int64(111)\n",
      "memory usage: 50.1 MB\n"
     ]
    }
   ],
   "source": [
    "df.info()"
   ]
  },
  {
   "cell_type": "code",
   "execution_count": 5,
   "id": "00ecb6f6",
   "metadata": {},
   "outputs": [
    {
     "data": {
      "text/plain": [
       "qty_dot_url             0.140542\n",
       "qty_hyphen_url          0.140790\n",
       "qty_underline_url       0.150771\n",
       "qty_slash_url           0.598533\n",
       "qty_questionmark_url    0.094843\n",
       "                          ...   \n",
       "qty_redirects          -0.033534\n",
       "url_google_index       -0.016519\n",
       "domain_google_index    -0.003176\n",
       "url_shortened           0.083984\n",
       "phishing                1.000000\n",
       "Name: phishing, Length: 112, dtype: float64"
      ]
     },
     "execution_count": 5,
     "metadata": {},
     "output_type": "execute_result"
    }
   ],
   "source": [
    "df.corr()[\"phishing\"]"
   ]
  },
  {
   "attachments": {
    "image.png": {
     "image/png": "[encoded data removed]"
    }
   },
   "cell_type": "markdown",
   "id": "5d9581d0",
   "metadata": {},
   "source": [
    "![image.png](attachment:image.png)"
   ]
  },
  {
   "attachments": {
    "image.png": {
     "image/png": "[encoded data removed]"
    }
   },
   "cell_type": "markdown",
   "id": "62bdcab5",
   "metadata": {},
   "source": [
    "![image.png](attachment:image.png)"
   ]
  },
  {
   "cell_type": "markdown",
   "id": "a546c0bc",
   "metadata": {},
   "source": [
    "# Attributes based on the whole URL properties"
   ]
  },
  {
   "cell_type": "code",
   "execution_count": 65,
   "id": "f1bee8c6",
   "metadata": {},
   "outputs": [],
   "source": [
    "df_url = df[['qty_dot_url',\n",
    " 'qty_hyphen_url',\n",
    " 'qty_underline_url',\n",
    " 'qty_slash_url',\n",
    " 'qty_questionmark_url',\n",
    " 'qty_equal_url',\n",
    " 'qty_at_url',\n",
    " 'qty_and_url',\n",
    " 'qty_exclamation_url',\n",
    " 'qty_space_url',\n",
    " 'qty_tilde_url',\n",
    " 'qty_comma_url',\n",
    " 'qty_plus_url',\n",
    " 'qty_asterisk_url',\n",
    " 'qty_hashtag_url',\n",
    " 'qty_dollar_url',\n",
    " 'qty_percent_url',\n",
    " 'qty_tld_url',\n",
    " 'length_url', 'email_in_url', \"phishing\"]].copy()"
   ]
  },
  {
   "cell_type": "code",
   "execution_count": 66,
   "id": "4967c013",
   "metadata": {},
   "outputs": [
    {
     "data": {
      "text/html": [
       "<div>\n",
       "<style scoped>\n",
       "    .dataframe tbody tr th:only-of-type {\n",
       "        vertical-align: middle;\n",
       "    }\n",
       "\n",
       "    .dataframe tbody tr th {\n",
       "        vertical-align: top;\n",
       "    }\n",
       "\n",
       "    .dataframe thead th {\n",
       "        text-align: right;\n",
       "    }\n",
       "</style>\n",
       "<table border=\"1\" class=\"dataframe\">\n",
       "  <thead>\n",
       "    <tr style=\"text-align: right;\">\n",
       "      <th></th>\n",
       "      <th>qty_dot_url</th>\n",
       "      <th>qty_hyphen_url</th>\n",
       "      <th>qty_underline_url</th>\n",
       "      <th>qty_slash_url</th>\n",
       "      <th>qty_questionmark_url</th>\n",
       "      <th>qty_equal_url</th>\n",
       "      <th>qty_at_url</th>\n",
       "      <th>qty_and_url</th>\n",
       "      <th>qty_exclamation_url</th>\n",
       "      <th>qty_space_url</th>\n",
       "      <th>...</th>\n",
       "      <th>qty_comma_url</th>\n",
       "      <th>qty_plus_url</th>\n",
       "      <th>qty_asterisk_url</th>\n",
       "      <th>qty_hashtag_url</th>\n",
       "      <th>qty_dollar_url</th>\n",
       "      <th>qty_percent_url</th>\n",
       "      <th>qty_tld_url</th>\n",
       "      <th>length_url</th>\n",
       "      <th>email_in_url</th>\n",
       "      <th>phishing</th>\n",
       "    </tr>\n",
       "  </thead>\n",
       "  <tbody>\n",
       "    <tr>\n",
       "      <th>count</th>\n",
       "      <td>58645.000000</td>\n",
       "      <td>58645.000000</td>\n",
       "      <td>58645.000000</td>\n",
       "      <td>58645.000000</td>\n",
       "      <td>58645.000000</td>\n",
       "      <td>58645.000000</td>\n",
       "      <td>58645.000000</td>\n",
       "      <td>58645.000000</td>\n",
       "      <td>58645.000000</td>\n",
       "      <td>58645.000000</td>\n",
       "      <td>...</td>\n",
       "      <td>58645.000000</td>\n",
       "      <td>58645.000000</td>\n",
       "      <td>58645.000000</td>\n",
       "      <td>58645.000000</td>\n",
       "      <td>58645.000000</td>\n",
       "      <td>58645.000000</td>\n",
       "      <td>58645.000000</td>\n",
       "      <td>58645.000000</td>\n",
       "      <td>58645.000000</td>\n",
       "      <td>58645.000000</td>\n",
       "    </tr>\n",
       "    <tr>\n",
       "      <th>mean</th>\n",
       "      <td>2.284338</td>\n",
       "      <td>0.457123</td>\n",
       "      <td>0.171285</td>\n",
       "      <td>1.937522</td>\n",
       "      <td>0.014102</td>\n",
       "      <td>0.311177</td>\n",
       "      <td>0.033456</td>\n",
       "      <td>0.212959</td>\n",
       "      <td>0.004451</td>\n",
       "      <td>0.001535</td>\n",
       "      <td>...</td>\n",
       "      <td>0.003274</td>\n",
       "      <td>0.004212</td>\n",
       "      <td>0.006855</td>\n",
       "      <td>0.000767</td>\n",
       "      <td>0.002865</td>\n",
       "      <td>0.162503</td>\n",
       "      <td>1.068429</td>\n",
       "      <td>44.959297</td>\n",
       "      <td>0.027709</td>\n",
       "      <td>0.522585</td>\n",
       "    </tr>\n",
       "    <tr>\n",
       "      <th>std</th>\n",
       "      <td>1.473209</td>\n",
       "      <td>1.339340</td>\n",
       "      <td>0.801919</td>\n",
       "      <td>2.037525</td>\n",
       "      <td>0.138156</td>\n",
       "      <td>1.159198</td>\n",
       "      <td>0.343272</td>\n",
       "      <td>1.130323</td>\n",
       "      <td>0.107352</td>\n",
       "      <td>0.089320</td>\n",
       "      <td>...</td>\n",
       "      <td>0.093381</td>\n",
       "      <td>0.136331</td>\n",
       "      <td>0.370849</td>\n",
       "      <td>0.075802</td>\n",
       "      <td>0.122604</td>\n",
       "      <td>2.115804</td>\n",
       "      <td>0.305755</td>\n",
       "      <td>54.712657</td>\n",
       "      <td>0.164139</td>\n",
       "      <td>0.499494</td>\n",
       "    </tr>\n",
       "    <tr>\n",
       "      <th>min</th>\n",
       "      <td>1.000000</td>\n",
       "      <td>0.000000</td>\n",
       "      <td>0.000000</td>\n",
       "      <td>0.000000</td>\n",
       "      <td>0.000000</td>\n",
       "      <td>0.000000</td>\n",
       "      <td>0.000000</td>\n",
       "      <td>0.000000</td>\n",
       "      <td>0.000000</td>\n",
       "      <td>0.000000</td>\n",
       "      <td>...</td>\n",
       "      <td>0.000000</td>\n",
       "      <td>0.000000</td>\n",
       "      <td>0.000000</td>\n",
       "      <td>0.000000</td>\n",
       "      <td>0.000000</td>\n",
       "      <td>0.000000</td>\n",
       "      <td>0.000000</td>\n",
       "      <td>4.000000</td>\n",
       "      <td>0.000000</td>\n",
       "      <td>0.000000</td>\n",
       "    </tr>\n",
       "    <tr>\n",
       "      <th>25%</th>\n",
       "      <td>2.000000</td>\n",
       "      <td>0.000000</td>\n",
       "      <td>0.000000</td>\n",
       "      <td>0.000000</td>\n",
       "      <td>0.000000</td>\n",
       "      <td>0.000000</td>\n",
       "      <td>0.000000</td>\n",
       "      <td>0.000000</td>\n",
       "      <td>0.000000</td>\n",
       "      <td>0.000000</td>\n",
       "      <td>...</td>\n",
       "      <td>0.000000</td>\n",
       "      <td>0.000000</td>\n",
       "      <td>0.000000</td>\n",
       "      <td>0.000000</td>\n",
       "      <td>0.000000</td>\n",
       "      <td>0.000000</td>\n",
       "      <td>1.000000</td>\n",
       "      <td>18.000000</td>\n",
       "      <td>0.000000</td>\n",
       "      <td>0.000000</td>\n",
       "    </tr>\n",
       "    <tr>\n",
       "      <th>50%</th>\n",
       "      <td>2.000000</td>\n",
       "      <td>0.000000</td>\n",
       "      <td>0.000000</td>\n",
       "      <td>1.000000</td>\n",
       "      <td>0.000000</td>\n",
       "      <td>0.000000</td>\n",
       "      <td>0.000000</td>\n",
       "      <td>0.000000</td>\n",
       "      <td>0.000000</td>\n",
       "      <td>0.000000</td>\n",
       "      <td>...</td>\n",
       "      <td>0.000000</td>\n",
       "      <td>0.000000</td>\n",
       "      <td>0.000000</td>\n",
       "      <td>0.000000</td>\n",
       "      <td>0.000000</td>\n",
       "      <td>0.000000</td>\n",
       "      <td>1.000000</td>\n",
       "      <td>29.000000</td>\n",
       "      <td>0.000000</td>\n",
       "      <td>1.000000</td>\n",
       "    </tr>\n",
       "    <tr>\n",
       "      <th>75%</th>\n",
       "      <td>3.000000</td>\n",
       "      <td>0.000000</td>\n",
       "      <td>0.000000</td>\n",
       "      <td>3.000000</td>\n",
       "      <td>0.000000</td>\n",
       "      <td>0.000000</td>\n",
       "      <td>0.000000</td>\n",
       "      <td>0.000000</td>\n",
       "      <td>0.000000</td>\n",
       "      <td>0.000000</td>\n",
       "      <td>...</td>\n",
       "      <td>0.000000</td>\n",
       "      <td>0.000000</td>\n",
       "      <td>0.000000</td>\n",
       "      <td>0.000000</td>\n",
       "      <td>0.000000</td>\n",
       "      <td>0.000000</td>\n",
       "      <td>1.000000</td>\n",
       "      <td>52.000000</td>\n",
       "      <td>0.000000</td>\n",
       "      <td>1.000000</td>\n",
       "    </tr>\n",
       "    <tr>\n",
       "      <th>85%</th>\n",
       "      <td>3.000000</td>\n",
       "      <td>1.000000</td>\n",
       "      <td>0.000000</td>\n",
       "      <td>4.000000</td>\n",
       "      <td>0.000000</td>\n",
       "      <td>0.000000</td>\n",
       "      <td>0.000000</td>\n",
       "      <td>0.000000</td>\n",
       "      <td>0.000000</td>\n",
       "      <td>0.000000</td>\n",
       "      <td>...</td>\n",
       "      <td>0.000000</td>\n",
       "      <td>0.000000</td>\n",
       "      <td>0.000000</td>\n",
       "      <td>0.000000</td>\n",
       "      <td>0.000000</td>\n",
       "      <td>0.000000</td>\n",
       "      <td>1.000000</td>\n",
       "      <td>70.000000</td>\n",
       "      <td>0.000000</td>\n",
       "      <td>1.000000</td>\n",
       "    </tr>\n",
       "    <tr>\n",
       "      <th>98%</th>\n",
       "      <td>6.000000</td>\n",
       "      <td>4.000000</td>\n",
       "      <td>2.000000</td>\n",
       "      <td>7.000000</td>\n",
       "      <td>0.000000</td>\n",
       "      <td>4.000000</td>\n",
       "      <td>1.000000</td>\n",
       "      <td>3.000000</td>\n",
       "      <td>0.000000</td>\n",
       "      <td>0.000000</td>\n",
       "      <td>...</td>\n",
       "      <td>0.000000</td>\n",
       "      <td>0.000000</td>\n",
       "      <td>0.000000</td>\n",
       "      <td>0.000000</td>\n",
       "      <td>0.000000</td>\n",
       "      <td>1.000000</td>\n",
       "      <td>2.000000</td>\n",
       "      <td>228.000000</td>\n",
       "      <td>1.000000</td>\n",
       "      <td>1.000000</td>\n",
       "    </tr>\n",
       "    <tr>\n",
       "      <th>99%</th>\n",
       "      <td>8.000000</td>\n",
       "      <td>7.000000</td>\n",
       "      <td>3.000000</td>\n",
       "      <td>8.000000</td>\n",
       "      <td>1.000000</td>\n",
       "      <td>6.000000</td>\n",
       "      <td>1.000000</td>\n",
       "      <td>6.000000</td>\n",
       "      <td>0.000000</td>\n",
       "      <td>0.000000</td>\n",
       "      <td>...</td>\n",
       "      <td>0.000000</td>\n",
       "      <td>0.000000</td>\n",
       "      <td>0.000000</td>\n",
       "      <td>0.000000</td>\n",
       "      <td>0.000000</td>\n",
       "      <td>4.000000</td>\n",
       "      <td>2.000000</td>\n",
       "      <td>253.000000</td>\n",
       "      <td>1.000000</td>\n",
       "      <td>1.000000</td>\n",
       "    </tr>\n",
       "    <tr>\n",
       "      <th>max</th>\n",
       "      <td>24.000000</td>\n",
       "      <td>35.000000</td>\n",
       "      <td>21.000000</td>\n",
       "      <td>44.000000</td>\n",
       "      <td>9.000000</td>\n",
       "      <td>23.000000</td>\n",
       "      <td>43.000000</td>\n",
       "      <td>26.000000</td>\n",
       "      <td>10.000000</td>\n",
       "      <td>9.000000</td>\n",
       "      <td>...</td>\n",
       "      <td>11.000000</td>\n",
       "      <td>19.000000</td>\n",
       "      <td>60.000000</td>\n",
       "      <td>13.000000</td>\n",
       "      <td>10.000000</td>\n",
       "      <td>174.000000</td>\n",
       "      <td>12.000000</td>\n",
       "      <td>4165.000000</td>\n",
       "      <td>1.000000</td>\n",
       "      <td>1.000000</td>\n",
       "    </tr>\n",
       "  </tbody>\n",
       "</table>\n",
       "<p>11 rows × 21 columns</p>\n",
       "</div>"
      ],
      "text/plain": [
       "        qty_dot_url  qty_hyphen_url  qty_underline_url  qty_slash_url  \\\n",
       "count  58645.000000    58645.000000       58645.000000   58645.000000   \n",
       "mean       2.284338        0.457123           0.171285       1.937522   \n",
       "std        1.473209        1.339340           0.801919       2.037525   \n",
       "min        1.000000        0.000000           0.000000       0.000000   \n",
       "25%        2.000000        0.000000           0.000000       0.000000   \n",
       "50%        2.000000        0.000000           0.000000       1.000000   \n",
       "75%        3.000000        0.000000           0.000000       3.000000   \n",
       "85%        3.000000        1.000000           0.000000       4.000000   \n",
       "98%        6.000000        4.000000           2.000000       7.000000   \n",
       "99%        8.000000        7.000000           3.000000       8.000000   \n",
       "max       24.000000       35.000000          21.000000      44.000000   \n",
       "\n",
       "       qty_questionmark_url  qty_equal_url    qty_at_url   qty_and_url  \\\n",
       "count          58645.000000   58645.000000  58645.000000  58645.000000   \n",
       "mean               0.014102       0.311177      0.033456      0.212959   \n",
       "std                0.138156       1.159198      0.343272      1.130323   \n",
       "min                0.000000       0.000000      0.000000      0.000000   \n",
       "25%                0.000000       0.000000      0.000000      0.000000   \n",
       "50%                0.000000       0.000000      0.000000      0.000000   \n",
       "75%                0.000000       0.000000      0.000000      0.000000   \n",
       "85%                0.000000       0.000000      0.000000      0.000000   \n",
       "98%                0.000000       4.000000      1.000000      3.000000   \n",
       "99%                1.000000       6.000000      1.000000      6.000000   \n",
       "max                9.000000      23.000000     43.000000     26.000000   \n",
       "\n",
       "       qty_exclamation_url  qty_space_url  ...  qty_comma_url  qty_plus_url  \\\n",
       "count         58645.000000   58645.000000  ...   58645.000000  58645.000000   \n",
       "mean              0.004451       0.001535  ...       0.003274      0.004212   \n",
       "std               0.107352       0.089320  ...       0.093381      0.136331   \n",
       "min               0.000000       0.000000  ...       0.000000      0.000000   \n",
       "25%               0.000000       0.000000  ...       0.000000      0.000000   \n",
       "50%               0.000000       0.000000  ...       0.000000      0.000000   \n",
       "75%               0.000000       0.000000  ...       0.000000      0.000000   \n",
       "85%               0.000000       0.000000  ...       0.000000      0.000000   \n",
       "98%               0.000000       0.000000  ...       0.000000      0.000000   \n",
       "99%               0.000000       0.000000  ...       0.000000      0.000000   \n",
       "max              10.000000       9.000000  ...      11.000000     19.000000   \n",
       "\n",
       "       qty_asterisk_url  qty_hashtag_url  qty_dollar_url  qty_percent_url  \\\n",
       "count      58645.000000     58645.000000    58645.000000     58645.000000   \n",
       "mean           0.006855         0.000767        0.002865         0.162503   \n",
       "std            0.370849         0.075802        0.122604         2.115804   \n",
       "min            0.000000         0.000000        0.000000         0.000000   \n",
       "25%            0.000000         0.000000        0.000000         0.000000   \n",
       "50%            0.000000         0.000000        0.000000         0.000000   \n",
       "75%            0.000000         0.000000        0.000000         0.000000   \n",
       "85%            0.000000         0.000000        0.000000         0.000000   \n",
       "98%            0.000000         0.000000        0.000000         1.000000   \n",
       "99%            0.000000         0.000000        0.000000         4.000000   \n",
       "max           60.000000        13.000000       10.000000       174.000000   \n",
       "\n",
       "        qty_tld_url    length_url  email_in_url      phishing  \n",
       "count  58645.000000  58645.000000  58645.000000  58645.000000  \n",
       "mean       1.068429     44.959297      0.027709      0.522585  \n",
       "std        0.305755     54.712657      0.164139      0.499494  \n",
       "min        0.000000      4.000000      0.000000      0.000000  \n",
       "25%        1.000000     18.000000      0.000000      0.000000  \n",
       "50%        1.000000     29.000000      0.000000      1.000000  \n",
       "75%        1.000000     52.000000      0.000000      1.000000  \n",
       "85%        1.000000     70.000000      0.000000      1.000000  \n",
       "98%        2.000000    228.000000      1.000000      1.000000  \n",
       "99%        2.000000    253.000000      1.000000      1.000000  \n",
       "max       12.000000   4165.000000      1.000000      1.000000  \n",
       "\n",
       "[11 rows x 21 columns]"
      ]
     },
     "execution_count": 66,
     "metadata": {},
     "output_type": "execute_result"
    }
   ],
   "source": [
    "df_url.describe(percentiles = [0.25, 0.50, 0.75, 0.85, 0.98, 0.99])"
   ]
  },
  {
   "cell_type": "code",
   "execution_count": 67,
   "id": "8681bbb1",
   "metadata": {},
   "outputs": [
    {
     "data": {
      "text/plain": [
       "qty_dot_url             0.140542\n",
       "qty_hyphen_url          0.140790\n",
       "qty_underline_url       0.150771\n",
       "qty_slash_url           0.598533\n",
       "qty_questionmark_url    0.094843\n",
       "qty_equal_url           0.216086\n",
       "qty_at_url              0.092955\n",
       "qty_and_url             0.159362\n",
       "qty_exclamation_url     0.023725\n",
       "qty_space_url           0.016422\n",
       "qty_tilde_url           0.041793\n",
       "qty_comma_url           0.021081\n",
       "qty_plus_url           -0.001522\n",
       "qty_asterisk_url        0.017667\n",
       "qty_hashtag_url         0.009676\n",
       "qty_dollar_url          0.022333\n",
       "qty_percent_url         0.002997\n",
       "qty_tld_url             0.185442\n",
       "length_url              0.381858\n",
       "email_in_url            0.161147\n",
       "phishing                1.000000\n",
       "Name: phishing, dtype: float64"
      ]
     },
     "execution_count": 67,
     "metadata": {},
     "output_type": "execute_result"
    }
   ],
   "source": [
    "df_url.corr()[\"phishing\"]"
   ]
  },
  {
   "cell_type": "code",
   "execution_count": 51,
   "id": "ada663ec",
   "metadata": {},
   "outputs": [
    {
     "data": {
      "text/plain": [
       "21"
      ]
     },
     "execution_count": 51,
     "metadata": {},
     "output_type": "execute_result"
    }
   ],
   "source": [
    "len(df_url.columns)"
   ]
  },
  {
   "cell_type": "code",
   "execution_count": null,
   "id": "e76a5630",
   "metadata": {},
   "outputs": [],
   "source": []
  },
  {
   "cell_type": "markdown",
   "id": "396d6e67",
   "metadata": {},
   "source": [
    "# Attributes based on Domain Properties"
   ]
  },
  {
   "cell_type": "code",
   "execution_count": null,
   "id": "81c50610",
   "metadata": {},
   "outputs": [],
   "source": [
    "df_domain = df[['qty_dot_domain',\n",
    " 'qty_hyphen_domain',\n",
    " 'qty_underline_domain',\n",
    " 'qty_slash_domain',\n",
    " 'qty_questionmark_domain',\n",
    " 'qty_equal_domain',\n",
    " 'qty_at_domain',\n",
    " 'qty_and_domain',\n",
    " 'qty_exclamation_domain',\n",
    " 'qty_space_domain',\n",
    " 'qty_tilde_domain',\n",
    " 'qty_comma_domain',\n",
    " 'qty_plus_domain',\n",
    " 'qty_asterisk_domain',\n",
    " 'qty_hashtag_domain',\n",
    " 'qty_dollar_domain',\n",
    " 'qty_percent_domain',\n",
    " 'qty_vowels_domain','domain_length',\n",
    " 'domain_in_ip',\n",
    " 'server_client_domain', \"phishing\"]].copy()"
   ]
  },
  {
   "cell_type": "code",
   "execution_count": null,
   "id": "2aca8e6a",
   "metadata": {},
   "outputs": [],
   "source": [
    "df_domain.corr()[\"phishing\"]"
   ]
  },
  {
   "cell_type": "code",
   "execution_count": null,
   "id": "c190295d",
   "metadata": {},
   "outputs": [],
   "source": [
    "df_domain.describe()"
   ]
  },
  {
   "cell_type": "code",
   "execution_count": null,
   "id": "4acbdb33",
   "metadata": {},
   "outputs": [],
   "source": [
    "df_domain.drop(['qty_slash_domain',\n",
    " 'qty_questionmark_domain',\n",
    " 'qty_equal_domain',\n",
    " 'qty_and_domain',\n",
    " 'qty_exclamation_domain',\n",
    " 'qty_space_domain',\n",
    " 'qty_tilde_domain',\n",
    " 'qty_comma_domain',\n",
    " 'qty_plus_domain',\n",
    " 'qty_asterisk_domain',\n",
    " 'qty_hashtag_domain',\n",
    " 'qty_dollar_domain',\n",
    " 'qty_percent_domain',\n",
    "  'qty_underline_domain', 'server_client_domain'], inplace = True, axis = 1)"
   ]
  },
  {
   "cell_type": "code",
   "execution_count": null,
   "id": "7124c197",
   "metadata": {},
   "outputs": [],
   "source": [
    "df_domain.corr()"
   ]
  },
  {
   "cell_type": "code",
   "execution_count": null,
   "id": "67d90a72",
   "metadata": {},
   "outputs": [],
   "source": [
    "df_domain.columns"
   ]
  },
  {
   "cell_type": "code",
   "execution_count": null,
   "id": "a2353b5a",
   "metadata": {},
   "outputs": [],
   "source": [
    "df_domain.corr()[\"phishing\"]"
   ]
  },
  {
   "cell_type": "markdown",
   "id": "4ef0b23d",
   "metadata": {},
   "source": [
    "# Attributes based on URL Directory"
   ]
  },
  {
   "cell_type": "code",
   "execution_count": null,
   "id": "f089f27a",
   "metadata": {},
   "outputs": [],
   "source": [
    "df_directory = df[['qty_dot_directory',\n",
    " 'qty_hyphen_directory',\n",
    " 'qty_underline_directory',\n",
    " 'qty_slash_directory',\n",
    " 'qty_questionmark_directory',\n",
    " 'qty_equal_directory',\n",
    " 'qty_at_directory',\n",
    " 'qty_and_directory',\n",
    " 'qty_exclamation_directory',\n",
    " 'qty_space_directory',\n",
    " 'qty_tilde_directory',\n",
    " 'qty_comma_directory',\n",
    " 'qty_plus_directory',\n",
    " 'qty_asterisk_directory',\n",
    " 'qty_hashtag_directory',\n",
    " 'qty_dollar_directory',\n",
    " 'qty_percent_directory',\n",
    " 'directory_length', \"phishing\"]].copy()\n",
    "\n",
    "df_directory.head()"
   ]
  },
  {
   "cell_type": "code",
   "execution_count": null,
   "id": "fa14efa9",
   "metadata": {},
   "outputs": [],
   "source": [
    "df_directory.describe()"
   ]
  },
  {
   "cell_type": "code",
   "execution_count": null,
   "id": "b3b59118",
   "metadata": {},
   "outputs": [],
   "source": [
    "df_directory.corr()[\"phishing\"]"
   ]
  },
  {
   "cell_type": "code",
   "execution_count": null,
   "id": "9589595a",
   "metadata": {},
   "outputs": [],
   "source": [
    "new_df[new_df[\"directory_length\"] > 200]"
   ]
  },
  {
   "cell_type": "markdown",
   "id": "5eac2cc8",
   "metadata": {},
   "source": [
    "# Attributes based on URL File Name"
   ]
  },
  {
   "cell_type": "code",
   "execution_count": null,
   "id": "688c0f31",
   "metadata": {},
   "outputs": [],
   "source": [
    "df_file_name = df[[ 'qty_dot_file',\n",
    " 'qty_hyphen_file',\n",
    " 'qty_underline_file',\n",
    " 'qty_slash_file',\n",
    " 'qty_questionmark_file',\n",
    " 'qty_equal_file',\n",
    " 'qty_at_file',\n",
    " 'qty_and_file',\n",
    " 'qty_exclamation_file',\n",
    " 'qty_space_file',\n",
    " 'qty_tilde_file',\n",
    " 'qty_comma_file',\n",
    " 'qty_plus_file',\n",
    " 'qty_asterisk_file',\n",
    " 'qty_hashtag_file',\n",
    " 'qty_dollar_file',\n",
    " 'qty_percent_file',\n",
    " 'file_length', \"phishing\"]]\n",
    "\n",
    "df_file_name.head()"
   ]
  },
  {
   "cell_type": "code",
   "execution_count": null,
   "id": "a827387b",
   "metadata": {},
   "outputs": [],
   "source": [
    "df_file_name.corr()[\"phishing\"]"
   ]
  },
  {
   "cell_type": "markdown",
   "id": "de25a417",
   "metadata": {},
   "source": [
    "# Attributes based on URL Parameters"
   ]
  },
  {
   "cell_type": "code",
   "execution_count": null,
   "id": "cdf54f66",
   "metadata": {},
   "outputs": [],
   "source": [
    "df_url_parameters = df[['qty_dot_params',\n",
    " 'qty_hyphen_params',\n",
    " 'qty_underline_params',\n",
    " 'qty_slash_params',\n",
    " 'qty_questionmark_params',\n",
    " 'qty_equal_params',\n",
    " 'qty_at_params',\n",
    " 'qty_and_params',\n",
    " 'qty_exclamation_params',\n",
    " 'qty_space_params',\n",
    " 'qty_tilde_params',\n",
    " 'qty_comma_params',\n",
    " 'qty_plus_params',\n",
    " 'qty_asterisk_params',\n",
    " 'qty_hashtag_params',\n",
    " 'qty_dollar_params',\n",
    " 'qty_percent_params',\n",
    " 'params_length',\n",
    " 'tld_present_params',\n",
    " 'qty_params', \"phishing\"]]\n",
    "\n",
    "df_url_parameters.head()"
   ]
  },
  {
   "cell_type": "code",
   "execution_count": null,
   "id": "5f6c8040",
   "metadata": {},
   "outputs": [],
   "source": []
  },
  {
   "cell_type": "code",
   "execution_count": null,
   "id": "3b2cc64f",
   "metadata": {},
   "outputs": [],
   "source": [
    "df_url_parameters.corr()[\"phishing\"]"
   ]
  },
  {
   "cell_type": "code",
   "execution_count": null,
   "id": "1f31c506",
   "metadata": {},
   "outputs": [],
   "source": []
  },
  {
   "cell_type": "markdown",
   "id": "3ff996d4",
   "metadata": {},
   "source": [
    "# Attributes based on the URL resolving data and external metrics"
   ]
  },
  {
   "cell_type": "code",
   "execution_count": 57,
   "id": "759f6bbd",
   "metadata": {},
   "outputs": [
    {
     "data": {
      "text/html": [
       "<div>\n",
       "<style scoped>\n",
       "    .dataframe tbody tr th:only-of-type {\n",
       "        vertical-align: middle;\n",
       "    }\n",
       "\n",
       "    .dataframe tbody tr th {\n",
       "        vertical-align: top;\n",
       "    }\n",
       "\n",
       "    .dataframe thead th {\n",
       "        text-align: right;\n",
       "    }\n",
       "</style>\n",
       "<table border=\"1\" class=\"dataframe\">\n",
       "  <thead>\n",
       "    <tr style=\"text-align: right;\">\n",
       "      <th></th>\n",
       "      <th>email_in_url</th>\n",
       "      <th>time_response</th>\n",
       "      <th>domain_spf</th>\n",
       "      <th>asn_ip</th>\n",
       "      <th>time_domain_activation</th>\n",
       "      <th>time_domain_expiration</th>\n",
       "      <th>qty_ip_resolved</th>\n",
       "      <th>qty_nameservers</th>\n",
       "      <th>qty_mx_servers</th>\n",
       "      <th>ttl_hostname</th>\n",
       "      <th>tls_ssl_certificate</th>\n",
       "      <th>qty_redirects</th>\n",
       "      <th>url_google_index</th>\n",
       "      <th>domain_google_index</th>\n",
       "      <th>url_shortened</th>\n",
       "      <th>phishing</th>\n",
       "    </tr>\n",
       "  </thead>\n",
       "  <tbody>\n",
       "    <tr>\n",
       "      <th>0</th>\n",
       "      <td>0</td>\n",
       "      <td>0.334573</td>\n",
       "      <td>0</td>\n",
       "      <td>8560</td>\n",
       "      <td>4927</td>\n",
       "      <td>185</td>\n",
       "      <td>1</td>\n",
       "      <td>4</td>\n",
       "      <td>2</td>\n",
       "      <td>3598</td>\n",
       "      <td>0</td>\n",
       "      <td>0</td>\n",
       "      <td>0</td>\n",
       "      <td>0</td>\n",
       "      <td>0</td>\n",
       "      <td>0</td>\n",
       "    </tr>\n",
       "    <tr>\n",
       "      <th>1</th>\n",
       "      <td>0</td>\n",
       "      <td>1.326223</td>\n",
       "      <td>-1</td>\n",
       "      <td>263283</td>\n",
       "      <td>8217</td>\n",
       "      <td>-1</td>\n",
       "      <td>1</td>\n",
       "      <td>4</td>\n",
       "      <td>1</td>\n",
       "      <td>3977</td>\n",
       "      <td>1</td>\n",
       "      <td>0</td>\n",
       "      <td>0</td>\n",
       "      <td>0</td>\n",
       "      <td>0</td>\n",
       "      <td>0</td>\n",
       "    </tr>\n",
       "    <tr>\n",
       "      <th>2</th>\n",
       "      <td>0</td>\n",
       "      <td>3.969207</td>\n",
       "      <td>1</td>\n",
       "      <td>26496</td>\n",
       "      <td>258</td>\n",
       "      <td>106</td>\n",
       "      <td>1</td>\n",
       "      <td>2</td>\n",
       "      <td>1</td>\n",
       "      <td>10788</td>\n",
       "      <td>0</td>\n",
       "      <td>0</td>\n",
       "      <td>0</td>\n",
       "      <td>0</td>\n",
       "      <td>0</td>\n",
       "      <td>0</td>\n",
       "    </tr>\n",
       "    <tr>\n",
       "      <th>3</th>\n",
       "      <td>0</td>\n",
       "      <td>0.495212</td>\n",
       "      <td>1</td>\n",
       "      <td>20013</td>\n",
       "      <td>2602</td>\n",
       "      <td>319</td>\n",
       "      <td>1</td>\n",
       "      <td>2</td>\n",
       "      <td>1</td>\n",
       "      <td>14339</td>\n",
       "      <td>1</td>\n",
       "      <td>0</td>\n",
       "      <td>0</td>\n",
       "      <td>0</td>\n",
       "      <td>0</td>\n",
       "      <td>1</td>\n",
       "    </tr>\n",
       "    <tr>\n",
       "      <th>4</th>\n",
       "      <td>0</td>\n",
       "      <td>0.177876</td>\n",
       "      <td>-1</td>\n",
       "      <td>41828</td>\n",
       "      <td>-1</td>\n",
       "      <td>-1</td>\n",
       "      <td>1</td>\n",
       "      <td>2</td>\n",
       "      <td>1</td>\n",
       "      <td>389</td>\n",
       "      <td>1</td>\n",
       "      <td>1</td>\n",
       "      <td>0</td>\n",
       "      <td>0</td>\n",
       "      <td>0</td>\n",
       "      <td>1</td>\n",
       "    </tr>\n",
       "  </tbody>\n",
       "</table>\n",
       "</div>"
      ],
      "text/plain": [
       "   email_in_url  time_response  domain_spf  asn_ip  time_domain_activation  \\\n",
       "0             0       0.334573           0    8560                    4927   \n",
       "1             0       1.326223          -1  263283                    8217   \n",
       "2             0       3.969207           1   26496                     258   \n",
       "3             0       0.495212           1   20013                    2602   \n",
       "4             0       0.177876          -1   41828                      -1   \n",
       "\n",
       "   time_domain_expiration  qty_ip_resolved  qty_nameservers  qty_mx_servers  \\\n",
       "0                     185                1                4               2   \n",
       "1                      -1                1                4               1   \n",
       "2                     106                1                2               1   \n",
       "3                     319                1                2               1   \n",
       "4                      -1                1                2               1   \n",
       "\n",
       "   ttl_hostname  tls_ssl_certificate  qty_redirects  url_google_index  \\\n",
       "0          3598                    0              0                 0   \n",
       "1          3977                    1              0                 0   \n",
       "2         10788                    0              0                 0   \n",
       "3         14339                    1              0                 0   \n",
       "4           389                    1              1                 0   \n",
       "\n",
       "   domain_google_index  url_shortened  phishing  \n",
       "0                    0              0         0  \n",
       "1                    0              0         0  \n",
       "2                    0              0         0  \n",
       "3                    0              0         1  \n",
       "4                    0              0         1  "
      ]
     },
     "execution_count": 57,
     "metadata": {},
     "output_type": "execute_result"
    }
   ],
   "source": [
    "df_url_resolving = df[['email_in_url',\n",
    " 'time_response',\n",
    " 'domain_spf',\n",
    " 'asn_ip',\n",
    " 'time_domain_activation',\n",
    " 'time_domain_expiration',\n",
    " 'qty_ip_resolved',\n",
    " 'qty_nameservers',\n",
    " 'qty_mx_servers',\n",
    " 'ttl_hostname',\n",
    " 'tls_ssl_certificate',\n",
    " 'qty_redirects',\n",
    " 'url_google_index',\n",
    " 'domain_google_index',\n",
    " 'url_shortened',\n",
    " 'phishing']]\n",
    "\n",
    "df_url_resolving.head()"
   ]
  },
  {
   "cell_type": "code",
   "execution_count": null,
   "id": "efe022a5",
   "metadata": {},
   "outputs": [],
   "source": [
    "df_url_resolving.describe()"
   ]
  },
  {
   "cell_type": "code",
   "execution_count": 58,
   "id": "6e94ffc5",
   "metadata": {},
   "outputs": [
    {
     "data": {
      "text/plain": [
       "email_in_url              0.161147\n",
       "time_response             0.056365\n",
       "domain_spf                0.014032\n",
       "asn_ip                    0.076841\n",
       "time_domain_activation   -0.370977\n",
       "time_domain_expiration   -0.145334\n",
       "qty_ip_resolved          -0.011726\n",
       "qty_nameservers          -0.135197\n",
       "qty_mx_servers           -0.045346\n",
       "ttl_hostname              0.137549\n",
       "tls_ssl_certificate      -0.041551\n",
       "qty_redirects            -0.033534\n",
       "url_google_index         -0.016519\n",
       "domain_google_index      -0.003176\n",
       "url_shortened             0.083984\n",
       "phishing                  1.000000\n",
       "Name: phishing, dtype: float64"
      ]
     },
     "execution_count": 58,
     "metadata": {},
     "output_type": "execute_result"
    }
   ],
   "source": [
    "df_url_resolving.corr()[\"phishing\"]"
   ]
  },
  {
   "cell_type": "code",
   "execution_count": null,
   "id": "9586629c",
   "metadata": {},
   "outputs": [],
   "source": [
    "df_url_resolving.columns"
   ]
  },
  {
   "cell_type": "markdown",
   "id": "583039d3",
   "metadata": {},
   "source": [
    "# Final DataSet"
   ]
  },
  {
   "cell_type": "code",
   "execution_count": 7,
   "id": "f70ac9b4",
   "metadata": {},
   "outputs": [],
   "source": [
    "new_df = df.drop([\n",
    "       \n",
    "'qty_slash_domain', 'qty_questionmark_domain', 'qty_equal_domain',\n",
    "       'qty_at_domain', 'qty_and_domain', 'qty_exclamation_domain',\n",
    "       'qty_space_domain', 'qty_tilde_domain', 'qty_comma_domain',\n",
    "       'qty_plus_domain', 'qty_asterisk_domain', 'qty_hashtag_domain',\n",
    "       'qty_dollar_domain', 'qty_percent_domain',\n",
    " \n",
    " \n",
    "\n",
    "\n",
    " 'qty_redirects', 'url_google_index','domain_google_index', \n",
    " 'url_shortened', 'domain_spf', 'asn_ip', 'ttl_hostname'\n",
    "\n",
    "\n",
    " ], axis = 1)\n",
    "\n",
    "\n",
    "\n",
    "\n"
   ]
  },
  {
   "cell_type": "code",
   "execution_count": 8,
   "id": "b7a15a11",
   "metadata": {},
   "outputs": [],
   "source": [
    "# Outliers Removal\n",
    "\n",
    "# Sice 97th percentile of our data is less than 150\n",
    "new_df = new_df.drop(new_df[new_df[\"length_url\"] > 200].index).reset_index(drop = True)  # 1600 rows gone\n",
    "\n",
    "# The expiry date of a domain can we never greater than 10 years and we need to renew it to upto 10 years\n",
    "\n",
    "new_df = new_df.drop(new_df[new_df[\"time_domain_expiration\"] > 3000].index).reset_index(drop = True)  # 600 rows gone\n",
    "\n",
    "\n",
    "# Lets consider the activation date will be after 2000 so the activation time should be less than 30 years\n",
    "\n",
    "new_df = new_df.drop(new_df[new_df[\"time_domain_activation\"] > 10000].index).reset_index(drop = True)   # 120 rows gone\n",
    "\n"
   ]
  },
  {
   "cell_type": "code",
   "execution_count": null,
   "id": "3c778548",
   "metadata": {},
   "outputs": [],
   "source": []
  },
  {
   "cell_type": "code",
   "execution_count": null,
   "id": "4c5e6d9f",
   "metadata": {},
   "outputs": [],
   "source": []
  },
  {
   "cell_type": "markdown",
   "id": "5bc1b30a",
   "metadata": {},
   "source": [
    "# Creating Dataset from the Given Link"
   ]
  },
  {
   "cell_type": "code",
   "execution_count": 9,
   "id": "8209a8d6",
   "metadata": {},
   "outputs": [],
   "source": [
    "import whois\n",
    "from datetime import datetime\n",
    "import requests\n",
    "import dns.resolver\n",
    "import tldextract\n",
    "import yarl\n",
    "\n",
    "class Url_DataFrame:\n",
    "    \"\"\"This class is mainly used to extract all the required features for our Machine Learning model from the given URL\"\"\"\n",
    "    \n",
    "    \n",
    "    def __init__(self, url):\n",
    "        self.link = url\n",
    "        self.domain = self.domain_name_detect()\n",
    "        \n",
    "        self.df = pd.DataFrame(data = [0], columns = [\"delete\"])\n",
    "        self.df.drop(\"delete\", axis = 1, inplace = True)\n",
    "        \n",
    "        self.url_dataframe_preparation()\n",
    "        \n",
    "        \n",
    "        \n",
    "        \n",
    "    def is_registered(self):\n",
    "        \"\"\"This method is used to check whether given url is registered or not and also assign no of days since it got activated\n",
    "           and no of days it had to get expired.\"\"\"\n",
    "     \n",
    "        try:\n",
    "            whois_info = whois.whois(self.link)\n",
    "            \n",
    "            is_registered = bool(whois_info.domain_name)\n",
    "        \n",
    "        except Exception as e:\n",
    "            is_registered = False\n",
    "            print(e)\n",
    "        \n",
    "        finally:\n",
    "            now_date = datetime.now()     #Present time but with no seconds given\n",
    "            dt_string = now_date.strftime(\"%d/%m/%Y %H:%M:%S\")      # Converting present time to string since we also need seconds\n",
    "            dt_date = datetime.strptime(dt_string, '%d/%m/%Y %H:%M:%S')   # Converting string back to date time\n",
    "        \n",
    "        \n",
    "            if is_registered:\n",
    "                \n",
    "                if type(whois_info.creation_date) == list:\n",
    "                    creation_date = whois_info.creation_date[0]\n",
    "                    \n",
    "                else:\n",
    "                    creation_date = whois_info.creation_date\n",
    "                \n",
    "                time_domain_activation = (dt_date) - (creation_date)\n",
    "                \n",
    "                if type(whois_info.expiration_date) == list:\n",
    "                    expiry_date = whois_info.expiration_date[0]\n",
    "                    \n",
    "                else:\n",
    "                    expiry_date = whois_info.expiration_date\n",
    "                \n",
    "                time_domain_expiration = (expiry_date) - (dt_date)\n",
    "                self.df['time_domain_activation'] = time_domain_activation.days\n",
    "                self.df['time_domain_expiration'] = time_domain_expiration.days\n",
    "                    \n",
    "            else:\n",
    "                self.df['time_domain_activation'] = -1\n",
    "                self.df['time_domain_expiration'] = -1\n",
    "                \n",
    "        \n",
    "          \n",
    "    def time_response(self):\n",
    "        \"\"\"This method is used to calculate the time response and if url contains email in it\"\"\"  \n",
    "        \n",
    "        # Checking for email in the url\n",
    "        \n",
    "        reg = re.findall(r\"[A-Za-z0-9._%+-]+\"\n",
    "                         r\"@[A-Za-z0-9.-]+\"\n",
    "                         r\"\\.[A-Za-z]{2,4}\", self.link)\n",
    "\n",
    "        if(len(reg)>0):\n",
    "            self.df[\"email_in_url\"] = 1\n",
    "            \n",
    "        else:\n",
    "            self.df[\"email_in_url\"] = 0\n",
    "        \n",
    "        # Finding time response of the website\n",
    "        \n",
    "        try:\n",
    "            self.df['time_response'] = requests.get(self.link).elapsed.total_seconds()\n",
    "            \n",
    "        except Exception:\n",
    "            self.df[\"time_response\"] = float(0)\n",
    "           \n",
    "        \n",
    "    \n",
    "    def domain_name_detect(self):\n",
    "        \"\"\"This method is used for extracting the domain_name from the url\"\"\"\n",
    "        \n",
    "        if re.search(\"://\", self.link):                    # Checking for protocol in the url\n",
    "            main_url = self.link.split(\"/\")[2]  \n",
    "        \n",
    "        else:\n",
    "            main_url = self.link.split(\"/\")[0]\n",
    "    \n",
    "    \n",
    "        if re.search(\"^www\", main_url):       # Removing the 3rd level domain it it exists\n",
    "            domain_name = \".\".join(main_url.split(\".\")[1:])\n",
    "        \n",
    "        else:\n",
    "            domain_name = main_url\n",
    "        \n",
    "        return domain_name\n",
    "    \n",
    "    \n",
    "    \n",
    "    def number_ns_mx_records(self):\n",
    "        \"\"\"This method gives the no of mx and ns records of our domain\"\"\"\n",
    "\n",
    "        try:\n",
    "            self.df[\"qty_nameservers\"] = len(dns.resolver.resolve(self.domain, \"NS\"))\n",
    "            \n",
    "        except:\n",
    "            self.df[\"qty_nameservers\"] = 0\n",
    "            \n",
    "            \n",
    "            \n",
    "        try:\n",
    "            self.df[\"qty_mx_servers\"] = len(dns.resolver.resolve(self.domain, \"mx\"))\n",
    "            \n",
    "        except:\n",
    "            self.df[\"qty_mx_servers\"] = 0\n",
    "            \n",
    "    \n",
    "    \n",
    "    def resolved_ips(self):\n",
    "        \"\"\"This method is used for finding no resolved ips of the domain\"\"\"\n",
    "        \n",
    "        try:\n",
    "           \n",
    "        \n",
    "            result = dns.resolver.resolve(self.domain, 'A')\n",
    "\n",
    "#\n",
    "            self.df[\"qty_ip_resolved\"] = -1 if len(result) == 0 else len(result)\n",
    "    \n",
    "    \n",
    "        except Exception:\n",
    "            self.df[\"qty_ip_resolved\"] = -1\n",
    "    \n",
    "            \n",
    "            \n",
    "          \n",
    "    def tls_ssl_certificate(self):\n",
    "        \"\"\"This method is used to check if there is ssl certificate\"\"\"\n",
    "        \n",
    "        try: \n",
    "            \n",
    "            if re.search(\"https\", self.link):\n",
    "                self.df[\"tls_ssl_certificate\"] = 1\n",
    "                \n",
    "            else:\n",
    "                self.df[\"tls_ssl_certificate\"] = 0\n",
    "                \n",
    "            \n",
    "        except Exception:\n",
    "            self.df[\"tls_ssl_certificate\"] = 0\n",
    "            \n",
    "    \n",
    "    def server_client(self):\n",
    "        val = bool(re.search(r'(server)|(client)',self.link))\n",
    "        if(val):\n",
    "            return 1\n",
    "        else:\n",
    "            return 0\n",
    "            \n",
    "    \n",
    "    \n",
    "    def check_link(self):\n",
    "        \"\"\"\n",
    "            This method is to check whether the link is working or not!\n",
    "        \"\"\"\n",
    "        \n",
    "        try:\n",
    "            request = requests.get(self.link)\n",
    "            print(\"The website is genuine\")\n",
    "        except:\n",
    "            print('The provided URL is not working properly')\n",
    "    \n",
    "        \n",
    "       \n",
    "    def vowels(self):\n",
    "        \"\"\"This method returns us the no of vowels in our domain name\"\"\"\n",
    "        \n",
    "        vowels = re.findall(r'[aeiou]+',self.domain)\n",
    "        sum = 0\n",
    "        for item in vowels:\n",
    "            sum += len(item)\n",
    "        return sum\n",
    "    \n",
    "    \n",
    "    \n",
    "    def domain_contains_ip(self):\n",
    "        \"\"\"This method is used to find if url contains ip address than the domain name\"\"\"\n",
    "        \n",
    "        \n",
    "        if len(re.findall(\"[123456789]+\", self.domain)) == 4 or len(re.findall(\"[123456789]+\", self.domain)) == 6:\n",
    "            return 1\n",
    "        \n",
    "        else:\n",
    "            return 0\n",
    "        \n",
    "        \n",
    "    def check_email_url(self):\n",
    "        \"\"\"\n",
    "            A function to check whether email ID exist in the URL\n",
    "        \"\"\"\n",
    "        reg = re.findall(r\"[A-Za-z0-9._%+-]+\"\n",
    "                         r\"@[A-Za-z0-9.-]+\"\n",
    "                         r\"\\.[A-Za-z]{2,4}\", self.link)\n",
    "        if(len(reg)>0):\n",
    "            return 1\n",
    "        else:\n",
    "            return 0\n",
    "        \n",
    "        \n",
    "        \n",
    "    \n",
    "    \n",
    "    def url_dataframe_preparation(self):\n",
    "        \"\"\"This method is used to create the entire dataset from the given url\"\"\"\n",
    "        \n",
    "        \n",
    "        try:\n",
    "            \n",
    "            # Entire URL\n",
    "            \n",
    "            url = yarl.URL(self.link)\n",
    "\n",
    "            self.df['qty_dot_url'] = len(re.findall('[.]', self.link))\n",
    "            self.df['qty_hyphen_url'] = len(re.findall('[-]', self.link))\n",
    "            self.df['qty_underline_url'] = len(re.findall('[_]', self.link))\n",
    "            self.df['qty_slash_url'] = len(re.findall('[/]', self.link))\n",
    "            self.df['qty_questionmark_url'] = len(re.findall('[?]', self.link))\n",
    "            self.df['qty_equal_url'] = len(re.findall('[=]', self.link))\n",
    "            self.df['qty_at_url'] = len(re.findall('[@]', self.link))\n",
    "            self.df['qty_and_url'] = len(re.findall('[&]', self.link))\n",
    "            self.df['qty_exclamation_url'] = len(re.findall('[!]', self.link))\n",
    "            self.df['qty_exclamation_url'] = len(re.findall('[!]', self.link))\n",
    "            self.df['qty_space_url'] = len(re.findall('[ ]', self.link))\n",
    "            self.df['qty_tilde_url'] = len(re.findall('[~]', self.link))\n",
    "            self.df['qty_comma_url'] = len(re.findall('[,]', self.link))\n",
    "            self.df['qty_plus_url'] = len(re.findall('[+]', self.link))\n",
    "            self.df['qty_asterisk_url'] = len(re.findall('[*]', self.link))\n",
    "            self.df['qty_hashtag_url'] = len(re.findall('[#]', self.link))\n",
    "            self.df['qty_dollar_url'] = len(re.findall('[$]', self.link))\n",
    "            self.df['qty_percent_url'] = len(re.findall('[%]', self.link))\n",
    "            self.df['qty_tld_url'] = len(tldextract.extract(self.link).suffix)\n",
    "            self.df['length_url'] = len(self.link)\n",
    "            self.df['email_in_url'] = self.check_email_url()\n",
    "            \n",
    "            \n",
    "            # Domain\n",
    "            \n",
    "            \n",
    "\n",
    "            self.df['qty_dot_domain'] = len(re.findall('[.]', self.domain))\n",
    "            self.df['qty_hyphen_domain'] = len(re.findall('[-]', self.domain))\n",
    "            self.df['qty_underline_domain'] = len(re.findall('[_]', self.domain))\n",
    "            self.df['qty_vowels_domain'] = self.vowels()\n",
    "            self.df['domain_length'] = len(self.domain)\n",
    "            self.df[\"domain_in_ip\"] = self.domain_contains_ip()\n",
    "            self.df['server_client_domain'] = self.server_client()\n",
    "            \n",
    "            \n",
    "            \n",
    "            # Directory            \n",
    "            \n",
    "            \n",
    "            dirr = url.raw_path              # These gives the entire path after domain name\n",
    "            lenn = len(dirr.split('/')) - 1  # Minus 1 to avoid the file name in the directory\n",
    "            split_dir = dirr.split('/')\n",
    "            directory = ''\n",
    "            if (lenn > 1):\n",
    "                for i in range(0, lenn):\n",
    "                    directory += split_dir[i] + '/'\n",
    "            \n",
    "            print(\"url raw path: \", url.raw_path)\n",
    "            print(\"splitted based on /:\",  split_dir)\n",
    "            print(f\"Directory Part: {directory}\")\n",
    "\n",
    "            self.df['qty_dot_directory'] = len(re.findall('[.]', directory)) if len(directory) != 0 else -1\n",
    "            self.df['qty_hyphen_directory'] = len(re.findall('[-]', directory)) if len(directory) != 0 else -1\n",
    "            self.df['qty_underline_directory'] = len(re.findall('[_]', directory)) if len(directory) != 0 else -1\n",
    "            self.df['qty_slash_directory'] = len(re.findall('[/]', directory)) if len(directory) != 0 else -1\n",
    "            self.df['qty_questionmark_directory'] = len(re.findall('[?]', directory)) if len(directory) != 0 else -1\n",
    "            self.df['qty_equal_directory'] = len(re.findall('[=]', directory)) if len(directory) != 0 else -1\n",
    "            self.df['qty_at_directory'] = len(re.findall('[@]', directory)) if len(directory) != 0 else -1\n",
    "            self.df['qty_and_directory'] = len(re.findall('[&]', directory)) if len(directory) != 0 else -1\n",
    "            self.df['qty_exclamation_directory'] = len(re.findall('[!]', directory)) if len(directory) != 0 else -1\n",
    "            self.df['qty_space_directory'] = len(re.findall('[ ]', directory)) if len(directory) != 0 else -1\n",
    "            self.df['qty_tilde_directory'] = len(re.findall('[~]', directory)) if len(directory) != 0 else -1\n",
    "            self.df['qty_comma_directory'] = len(re.findall('[,]', directory)) if len(directory) != 0 else -1\n",
    "            self.df['qty_plus_directory'] = len(re.findall('[+]', directory)) if len(directory) != 0 else -1\n",
    "            self.df['qty_asterisk_directory'] = len(re.findall('[*]', directory)) if len(directory) != 0 else -1\n",
    "            self.df['qty_hashtag_directory'] = len(re.findall('[#]', directory)) if len(directory) != 0 else -1\n",
    "            self.df['qty_dollar_directory'] = len(re.findall('[$]', directory)) if len(directory) != 0 else -1\n",
    "            self.df['qty_percent_directory'] = len(re.findall('[%]', directory)) if len(directory) != 0 else -1\n",
    "            self.df['directory_length'] = len(directory) if len(directory) != 0 else -1\n",
    "            \n",
    "            \n",
    "            \n",
    "            # File\n",
    "            \n",
    "            \n",
    "            file = split_dir[-1]       # Since it is the last element in the directory list\n",
    "            \n",
    "            print(f\"File Part: {len(file)}\")\n",
    "            \n",
    "            \n",
    "            self.df['qty_dot_file'] = len(re.findall('[.]', file)) if len(file) != 0 else -1\n",
    "            self.df['qty_hyphen_file'] = len(re.findall('[-]', file)) if len(file) != 0 else -1\n",
    "            self.df['qty_underline_file'] = len(re.findall('[_]', file)) if len(file) != 0 else -1\n",
    "            self.df['qty_slash_file'] = len(re.findall('[/]', file)) if len(file) != 0 else -1\n",
    "            self.df['qty_questionmark_file'] = len(re.findall('[?]', file)) if len(file) != 0 else -1\n",
    "            self.df['qty_equal_file'] = len(re.findall('[=]', file)) if len(file) != 0 else -1\n",
    "            self.df['qty_at_file'] = len(re.findall('[@]', file)) if len(file) != 0 else -1\n",
    "            self.df['qty_and_file'] = len(re.findall('[&]', file)) if len(file) != 0 else -1\n",
    "            self.df['qty_exclamation_file'] = len(re.findall('[!]', file)) if len(file) != 0 else -1\n",
    "            self.df['qty_space_file'] = len(re.findall('[ ]', file)) if len(file) != 0 else -1\n",
    "            self.df['qty_tilde_file'] = len(re.findall('[~]', file)) if len(file) != 0 else -1\n",
    "            self.df['qty_comma_file'] = len(re.findall('[,]', file)) if len(file) != 0 else -1\n",
    "            self.df['qty_plus_file'] = len(re.findall('[+]', file)) if len(file) != 0 else -1\n",
    "            self.df['qty_asterisk_file'] = len(re.findall('[*]', file)) if len(file) != 0 else -1\n",
    "            self.df['qty_hashtag_file'] = len(re.findall('[#]', file)) if len(file) != 0 else -1\n",
    "            self.df['qty_dollar_file'] = len(re.findall('[$]', file)) if len(file) != 0 else -1\n",
    "            self.df['qty_percent_file'] = len(re.findall('[%]', file)) if len(file) != 0 else -1\n",
    "            self.df['file_length'] = len(file) if len(file) != 0 else -1\n",
    "\n",
    "            \n",
    "            \n",
    "            # Parameters\n",
    "            \n",
    "            \n",
    "\n",
    "            if (len(url.fragment) == 0):\n",
    "                parameter = url.query_string     # query_string  gives us entire parameters as string\n",
    "            elif (len(url.fragment) > 0):\n",
    "                parameter = url.query_string + '#' + url.fragment\n",
    "                \n",
    "            \n",
    "            print(f\"Parameters Part: {parameter}\")\n",
    "\n",
    "            self.df['qty_dot_params'] = len(re.findall('[.]', parameter)) if len(parameter) != 0 else -1\n",
    "            self.df['qty_hyphen_params'] = len(re.findall('[-]', parameter)) if len(parameter) != 0 else -1\n",
    "            self.df['qty_underline_params'] = len(re.findall('[_]', parameter)) if len(parameter) != 0 else -1\n",
    "            self.df['qty_slash_params'] = len(re.findall('[/]', parameter)) if len(parameter) != 0 else -1\n",
    "            self.df['qty_questionmark_params'] = len(re.findall('[?]', parameter)) if len(parameter) != 0 else -1\n",
    "            self.df['qty_equal_params'] = len(re.findall('[=]', parameter)) if len(parameter) != 0 else -1\n",
    "            self.df['qty_at_params'] = len(re.findall('[@]', parameter)) if len(parameter) != 0 else -1\n",
    "            self.df['qty_and_params'] = len(re.findall('[&]', parameter)) if len(parameter) != 0 else -1\n",
    "            self.df['qty_exclamation_params'] = len(re.findall('[!]', parameter)) if len(parameter) != 0 else -1\n",
    "            self.df['qty_space_params'] = len(re.findall('[ ]', parameter)) if len(parameter) != 0 else -1\n",
    "            self.df['qty_tilde_params'] = len(re.findall('[~]', parameter)) if len(parameter) != 0 else -1\n",
    "            self.df['qty_comma_params'] = len(re.findall('[,]', parameter)) if len(parameter) != 0 else -1\n",
    "            self.df['qty_plus_params'] = len(re.findall('[+]', parameter)) if len(parameter) != 0 else -1\n",
    "            self.df['qty_asterisk_params'] = len(re.findall('[*]', parameter)) if len(parameter) != 0 else -1\n",
    "            self.df['qty_hashtag_params'] = len(re.findall('[#]', parameter)) if len(parameter) != 0 else -1\n",
    "            self.df['qty_dollar_params'] = len(re.findall('[$]', parameter)) if len(parameter) != 0 else -1\n",
    "            self.df['qty_percent_params'] = len(re.findall('[%]', parameter)) if len(parameter) != 0 else -1\n",
    "            self.df['params_length'] = len(parameter) if len(parameter) != 0 else -1\n",
    "            \n",
    "            #Checking if there is any top level domain in parameters\n",
    "            \n",
    "            if len(parameter) == 0:\n",
    "                self.df[\"tld_present_params\"] = -1\n",
    "                \n",
    "            else:\n",
    "                self.df[\"tld_present_params\"] = 1 if bool(tldextract.extract(parameter).suffix) else 0\n",
    "\n",
    "            self.df[\"qty_params\"] = len(url.query) if len(parameter) != 0 else -1\n",
    "            \n",
    "            \n",
    "            # Defining Website parameters\n",
    "            \n",
    "            \n",
    "            self.time_response()\n",
    "            self.is_registered()\n",
    "            self.resolved_ips()\n",
    "            self.number_ns_mx_records()\n",
    "            \n",
    "            self.tls_ssl_certificate()\n",
    "            \n",
    "\n",
    "            \n",
    "            \n",
    "            \n",
    "            \n",
    "            \n",
    "        except Exception as e:\n",
    "\n",
    "            \n",
    "            print(e)\n",
    "            \n",
    "            \n",
    "            \n",
    "        \n",
    "            \n",
    "            \n",
    "            \n",
    "    \n",
    "        \n",
    "            \n",
    "    \n",
    "            \n",
    "    \n",
    "        \n",
    "     \n",
    "            \n",
    "            \n",
    "    \n",
    "                    \n",
    "        \n",
    "        \n",
    "        \n",
    "    \n",
    "        \n",
    "        "
   ]
  },
  {
   "cell_type": "code",
   "execution_count": null,
   "id": "e60a16a2",
   "metadata": {},
   "outputs": [],
   "source": []
  },
  {
   "cell_type": "code",
   "execution_count": null,
   "id": "e883ff61",
   "metadata": {},
   "outputs": [],
   "source": []
  },
  {
   "cell_type": "code",
   "execution_count": null,
   "id": "48065aa7",
   "metadata": {},
   "outputs": [],
   "source": []
  },
  {
   "cell_type": "code",
   "execution_count": 10,
   "id": "09882ed2",
   "metadata": {},
   "outputs": [
    {
     "name": "stdout",
     "output_type": "stream",
     "text": [
      "url raw path:  /search\n",
      "splitted based on /: ['', 'search']\n",
      "Directory Part: \n",
      "File Part: 6\n",
      "Parameters Part: q=best colors for single line texts in html&oq=best colors for single line texts in html&aqs=chrome..69i57j33i10i160j33i22i29i30.11320j0j1&sourceid=chrome&ie=UTF-8\n",
      "The website is genuine\n"
     ]
    }
   ],
   "source": [
    "z = Url_DataFrame(\"https://www.google.com/search?q=best+colors+for+single+line+texts+in+html&oq=best+colors+for+single+line+texts+in+html&aqs=chrome..69i57j33i10i160j33i22i29i30.11320j0j1&sourceid=chrome&ie=UTF-8\")\n",
    "z.check_link()"
   ]
  },
  {
   "cell_type": "code",
   "execution_count": 18,
   "id": "72d553bf",
   "metadata": {},
   "outputs": [],
   "source": [
    "X = new_df.iloc[:, :-1]\n",
    "y = new_df[\"phishing\"]"
   ]
  },
  {
   "cell_type": "code",
   "execution_count": null,
   "id": "11309dd3",
   "metadata": {},
   "outputs": [],
   "source": []
  },
  {
   "cell_type": "markdown",
   "id": "02a92cda",
   "metadata": {},
   "source": [
    "# Normalization"
   ]
  },
  {
   "cell_type": "code",
   "execution_count": 19,
   "id": "41cfedca",
   "metadata": {},
   "outputs": [],
   "source": [
    "obj = MinMaxScaler()\n",
    "\n",
    "X = obj.fit_transform(X)"
   ]
  },
  {
   "cell_type": "markdown",
   "id": "329857da",
   "metadata": {},
   "source": [
    "# Training and Testing Data Preparation"
   ]
  },
  {
   "cell_type": "code",
   "execution_count": 20,
   "id": "3e6c13ab",
   "metadata": {},
   "outputs": [],
   "source": [
    "X_train, X_test, y_train, y_test = train_test_split(X, y, test_size = 0.2, random_state = 123)"
   ]
  },
  {
   "cell_type": "code",
   "execution_count": null,
   "id": "0ae108e7",
   "metadata": {},
   "outputs": [],
   "source": []
  },
  {
   "cell_type": "markdown",
   "id": "fc86d745",
   "metadata": {},
   "source": [
    "# Principle Component Analysis`"
   ]
  },
  {
   "cell_type": "code",
   "execution_count": 22,
   "id": "4c16f11d",
   "metadata": {},
   "outputs": [],
   "source": [
    "from sklearn.decomposition import PCA"
   ]
  },
  {
   "cell_type": "code",
   "execution_count": 23,
   "id": "91785041",
   "metadata": {},
   "outputs": [],
   "source": [
    "pca = PCA()\n",
    "\n",
    "X_train = pca.fit_transform(X_train)\n",
    "X_test = pca.transform(X_test)"
   ]
  },
  {
   "cell_type": "code",
   "execution_count": 24,
   "id": "759d0092",
   "metadata": {},
   "outputs": [],
   "source": [
    "z.df = pca.transform(z.df)"
   ]
  },
  {
   "cell_type": "code",
   "execution_count": 25,
   "id": "b6866927",
   "metadata": {},
   "outputs": [],
   "source": [
    "z.df = pd.DataFrame(z.df)"
   ]
  },
  {
   "cell_type": "code",
   "execution_count": null,
   "id": "645b1af9",
   "metadata": {},
   "outputs": [],
   "source": []
  },
  {
   "cell_type": "code",
   "execution_count": null,
   "id": "635bc4a4",
   "metadata": {},
   "outputs": [],
   "source": []
  },
  {
   "cell_type": "code",
   "execution_count": null,
   "id": "4f676c2b",
   "metadata": {},
   "outputs": [],
   "source": [
    "minmax_scalar()"
   ]
  },
  {
   "cell_type": "code",
   "execution_count": null,
   "id": "72ef4033",
   "metadata": {},
   "outputs": [],
   "source": []
  },
  {
   "cell_type": "markdown",
   "id": "8ff06879",
   "metadata": {},
   "source": [
    "# Multi Level Perceptron"
   ]
  },
  {
   "cell_type": "code",
   "execution_count": 21,
   "id": "1fa37721",
   "metadata": {},
   "outputs": [],
   "source": [
    "from sklearn.neural_network import MLPClassifier"
   ]
  },
  {
   "cell_type": "code",
   "execution_count": null,
   "id": "96c81640",
   "metadata": {},
   "outputs": [],
   "source": [
    "mlp = MLPClassifier(hidden_layer_sizes=(100,100, 100, 100, 100))\n",
    "mlp.fit(X_train, y_train)"
   ]
  },
  {
   "cell_type": "code",
   "execution_count": null,
   "id": "f35e9926",
   "metadata": {},
   "outputs": [],
   "source": [
    "y_pred = mlp.predict(X_test)\n",
    "\n",
    "accuracy_score(y_test, y_pred)"
   ]
  },
  {
   "cell_type": "code",
   "execution_count": null,
   "id": "843fca85",
   "metadata": {},
   "outputs": [],
   "source": [
    "y_pred = mlp.predict(X_train)\n",
    "\n",
    "accuracy_score(y_train, y_pred)"
   ]
  },
  {
   "cell_type": "code",
   "execution_count": 57,
   "id": "1ac0efbb",
   "metadata": {},
   "outputs": [
    {
     "data": {
      "text/plain": [
       "array([0], dtype=int64)"
      ]
     },
     "execution_count": 57,
     "metadata": {},
     "output_type": "execute_result"
    }
   ],
   "source": [
    "mlp.predict(z.df)"
   ]
  },
  {
   "cell_type": "markdown",
   "id": "8e8362cf",
   "metadata": {},
   "source": [
    "# Logistic Regression"
   ]
  },
  {
   "cell_type": "code",
   "execution_count": 58,
   "id": "3eca0802",
   "metadata": {},
   "outputs": [],
   "source": [
    "from sklearn.linear_model import LogisticRegression\n",
    "from sklearn.metrics import accuracy_score\n",
    "from sklearn.metrics import confusion_matrix"
   ]
  },
  {
   "cell_type": "code",
   "execution_count": 59,
   "id": "13b184fd",
   "metadata": {},
   "outputs": [
    {
     "data": {
      "text/plain": [
       "LogisticRegression(max_iter=5000)"
      ]
     },
     "execution_count": 59,
     "metadata": {},
     "output_type": "execute_result"
    }
   ],
   "source": [
    "lr = LogisticRegression(max_iter = 5000)\n",
    "lr.fit(X_train, y_train)\n",
    "\n"
   ]
  },
  {
   "cell_type": "code",
   "execution_count": 60,
   "id": "7041d784",
   "metadata": {},
   "outputs": [
    {
     "data": {
      "text/plain": [
       "array([0], dtype=int64)"
      ]
     },
     "execution_count": 60,
     "metadata": {},
     "output_type": "execute_result"
    }
   ],
   "source": [
    "lr.predict(z.df)"
   ]
  },
  {
   "cell_type": "code",
   "execution_count": 61,
   "id": "b67becff",
   "metadata": {},
   "outputs": [
    {
     "data": {
      "text/plain": [
       "0.8797113071371291"
      ]
     },
     "execution_count": 61,
     "metadata": {},
     "output_type": "execute_result"
    }
   ],
   "source": [
    "accuracy_score(y_test, lr.predict(X_test))"
   ]
  },
  {
   "cell_type": "markdown",
   "id": "7cf0d82a",
   "metadata": {},
   "source": [
    "# Support Vector Machines"
   ]
  },
  {
   "cell_type": "code",
   "execution_count": null,
   "id": "5ebdd5b2",
   "metadata": {},
   "outputs": [],
   "source": []
  },
  {
   "cell_type": "code",
   "execution_count": 62,
   "id": "6c86f402",
   "metadata": {},
   "outputs": [],
   "source": [
    "from sklearn.svm import SVC\n"
   ]
  },
  {
   "cell_type": "code",
   "execution_count": 63,
   "id": "26965ef3",
   "metadata": {},
   "outputs": [
    {
     "data": {
      "text/plain": [
       "SVC()"
      ]
     },
     "execution_count": 63,
     "metadata": {},
     "output_type": "execute_result"
    }
   ],
   "source": [
    "svm = SVC()\n",
    "svm.fit(X_train, y_train)"
   ]
  },
  {
   "cell_type": "code",
   "execution_count": 64,
   "id": "f0f5beb4",
   "metadata": {},
   "outputs": [
    {
     "data": {
      "text/plain": [
       "0.8863049095607235"
      ]
     },
     "execution_count": 64,
     "metadata": {},
     "output_type": "execute_result"
    }
   ],
   "source": [
    "y_pred = svm.predict(X_test)\n",
    "\n",
    "accuracy_score(y_test, y_pred)"
   ]
  },
  {
   "cell_type": "code",
   "execution_count": 65,
   "id": "b29db898",
   "metadata": {},
   "outputs": [
    {
     "data": {
      "text/plain": [
       "array([0], dtype=int64)"
      ]
     },
     "execution_count": 65,
     "metadata": {},
     "output_type": "execute_result"
    }
   ],
   "source": [
    "svm.predict(z.df)"
   ]
  },
  {
   "cell_type": "markdown",
   "id": "ded9f735",
   "metadata": {},
   "source": [
    "# Decision Tree Classifier"
   ]
  },
  {
   "cell_type": "code",
   "execution_count": 66,
   "id": "e611447a",
   "metadata": {},
   "outputs": [],
   "source": [
    "from sklearn.tree import DecisionTreeClassifier"
   ]
  },
  {
   "cell_type": "code",
   "execution_count": 67,
   "id": "92719b53",
   "metadata": {},
   "outputs": [
    {
     "data": {
      "text/plain": [
       "DecisionTreeClassifier(max_depth=15)"
      ]
     },
     "execution_count": 67,
     "metadata": {},
     "output_type": "execute_result"
    }
   ],
   "source": [
    "dtc = DecisionTreeClassifier(criterion= 'gini', max_depth = 15)\n",
    "\n",
    "dtc.fit(X_train, y_train)"
   ]
  },
  {
   "cell_type": "code",
   "execution_count": 68,
   "id": "0904b87a",
   "metadata": {},
   "outputs": [
    {
     "data": {
      "text/plain": [
       "0.9298761471977189"
      ]
     },
     "execution_count": 68,
     "metadata": {},
     "output_type": "execute_result"
    }
   ],
   "source": [
    "y_pred = dtc.predict(X_test)\n",
    "\n",
    "accuracy_score(y_test, y_pred)"
   ]
  },
  {
   "cell_type": "code",
   "execution_count": 69,
   "id": "0e4459e6",
   "metadata": {},
   "outputs": [
    {
     "data": {
      "text/plain": [
       "array([1], dtype=int64)"
      ]
     },
     "execution_count": 69,
     "metadata": {},
     "output_type": "execute_result"
    }
   ],
   "source": [
    "dtc.predict(z.df)"
   ]
  },
  {
   "cell_type": "markdown",
   "id": "2be2c2b2",
   "metadata": {},
   "source": [
    "# K Nearest Neighbours"
   ]
  },
  {
   "cell_type": "code",
   "execution_count": 70,
   "id": "9e589ce2",
   "metadata": {},
   "outputs": [],
   "source": [
    "from sklearn.neighbors import KNeighborsClassifier"
   ]
  },
  {
   "cell_type": "code",
   "execution_count": 71,
   "id": "087b9308",
   "metadata": {},
   "outputs": [
    {
     "data": {
      "text/plain": [
       "KNeighborsClassifier(p=1)"
      ]
     },
     "execution_count": 71,
     "metadata": {},
     "output_type": "execute_result"
    }
   ],
   "source": [
    "knn = KNeighborsClassifier(n_neighbors = 5, p = 1)\n",
    "\n",
    "knn.fit(X_train, y_train)"
   ]
  },
  {
   "cell_type": "code",
   "execution_count": 72,
   "id": "eff49a4e",
   "metadata": {},
   "outputs": [
    {
     "data": {
      "text/plain": [
       "array([0], dtype=int64)"
      ]
     },
     "execution_count": 72,
     "metadata": {},
     "output_type": "execute_result"
    }
   ],
   "source": [
    "knn.predict(z.df)"
   ]
  },
  {
   "cell_type": "code",
   "execution_count": null,
   "id": "d6e7a148",
   "metadata": {},
   "outputs": [],
   "source": []
  },
  {
   "cell_type": "markdown",
   "id": "5bbf0071",
   "metadata": {},
   "source": [
    "# Gradient Boosting"
   ]
  },
  {
   "cell_type": "code",
   "execution_count": 73,
   "id": "403d2fa3",
   "metadata": {},
   "outputs": [
    {
     "data": {
      "text/plain": [
       "GradientBoostingClassifier()"
      ]
     },
     "execution_count": 73,
     "metadata": {},
     "output_type": "execute_result"
    }
   ],
   "source": [
    "from sklearn.ensemble import GradientBoostingClassifier\n",
    "\n",
    "gbc = GradientBoostingClassifier()\n",
    "\n",
    "gbc.fit(X_train, y_train)"
   ]
  },
  {
   "cell_type": "code",
   "execution_count": 74,
   "id": "fbff5845",
   "metadata": {},
   "outputs": [
    {
     "data": {
      "text/plain": [
       "0.92542101042502"
      ]
     },
     "execution_count": 74,
     "metadata": {},
     "output_type": "execute_result"
    }
   ],
   "source": [
    "y_pred = gbc.predict(X_test)\n",
    "\n",
    "accuracy_score(y_test, y_pred)"
   ]
  },
  {
   "cell_type": "code",
   "execution_count": 75,
   "id": "30a21dc4",
   "metadata": {},
   "outputs": [
    {
     "name": "stdout",
     "output_type": "stream",
     "text": [
      "0.24.1\n"
     ]
    }
   ],
   "source": [
    "import sklearn\n",
    "\n",
    "print(sklearn.__version__)"
   ]
  },
  {
   "cell_type": "code",
   "execution_count": 76,
   "id": "b25c123c",
   "metadata": {},
   "outputs": [
    {
     "data": {
      "text/plain": [
       "array([1], dtype=int64)"
      ]
     },
     "execution_count": 76,
     "metadata": {},
     "output_type": "execute_result"
    }
   ],
   "source": [
    "gbc.predict(z.df)"
   ]
  },
  {
   "cell_type": "markdown",
   "id": "f4ac2e78",
   "metadata": {},
   "source": [
    "# Random Forest Classifier\n"
   ]
  },
  {
   "cell_type": "code",
   "execution_count": 77,
   "id": "ec577b81",
   "metadata": {},
   "outputs": [
    {
     "data": {
      "text/plain": [
       "RandomForestClassifier()"
      ]
     },
     "execution_count": 77,
     "metadata": {},
     "output_type": "execute_result"
    }
   ],
   "source": [
    "from sklearn.ensemble import RandomForestClassifier\n",
    "\n",
    "rfc = RandomForestClassifier()\n",
    "\n",
    "rfc.fit(X_train, y_train)"
   ]
  },
  {
   "cell_type": "code",
   "execution_count": 78,
   "id": "c40219cd",
   "metadata": {},
   "outputs": [
    {
     "data": {
      "text/plain": [
       "0.9476075915530606"
      ]
     },
     "execution_count": 78,
     "metadata": {},
     "output_type": "execute_result"
    }
   ],
   "source": [
    "y_pred = rfc.predict(X_test)\n",
    "\n",
    "accuracy_score(y_test, y_pred)"
   ]
  },
  {
   "cell_type": "code",
   "execution_count": null,
   "id": "5fb1db65",
   "metadata": {},
   "outputs": [],
   "source": []
  },
  {
   "cell_type": "code",
   "execution_count": 80,
   "id": "2e9e10f4",
   "metadata": {},
   "outputs": [],
   "source": [
    "import pickle\n",
    "\n",
    "with open(\"rf_model\", 'wb') as file:\n",
    "    pickle.dump(rfc, file)"
   ]
  },
  {
   "cell_type": "code",
   "execution_count": 81,
   "id": "cdb0991c",
   "metadata": {},
   "outputs": [],
   "source": [
    "with open(\"mlp_model\", 'wb') as file:\n",
    "    pickle.dump(mlp, file)"
   ]
  },
  {
   "cell_type": "code",
   "execution_count": 82,
   "id": "efc7228b",
   "metadata": {},
   "outputs": [],
   "source": [
    "with open(\"lr_model\", 'wb') as file:\n",
    "    pickle.dump(lr, file)"
   ]
  },
  {
   "cell_type": "code",
   "execution_count": 83,
   "id": "7a8e41b5",
   "metadata": {},
   "outputs": [],
   "source": [
    "with open(\"svm_model\", 'wb') as file:\n",
    "    pickle.dump(svm, file)"
   ]
  },
  {
   "cell_type": "code",
   "execution_count": 84,
   "id": "1adc8b9b",
   "metadata": {},
   "outputs": [],
   "source": [
    "with open(\"dtc_model\", 'wb') as file:\n",
    "    pickle.dump(dtc, file)"
   ]
  },
  {
   "cell_type": "code",
   "execution_count": 85,
   "id": "fc27ab89",
   "metadata": {},
   "outputs": [],
   "source": [
    "with open(\"knn_model\", 'wb') as file:\n",
    "    pickle.dump(knn, file)"
   ]
  },
  {
   "cell_type": "code",
   "execution_count": 86,
   "id": "0cd0b104",
   "metadata": {},
   "outputs": [],
   "source": [
    "with open(\"gbc_model\", 'wb') as file:\n",
    "    pickle.dump(gbc, file)"
   ]
  },
  {
   "cell_type": "code",
   "execution_count": null,
   "id": "c3a80af0",
   "metadata": {},
   "outputs": [],
   "source": []
  },
  {
   "cell_type": "markdown",
   "id": "92ae1bfd",
   "metadata": {},
   "source": [
    "# Predicting the output\n",
    "\n",
    "\n"
   ]
  },
  {
   "cell_type": "code",
   "execution_count": null,
   "id": "0e9d5b9d",
   "metadata": {},
   "outputs": [],
   "source": []
  },
  {
   "cell_type": "code",
   "execution_count": 50,
   "id": "5fc82eb2",
   "metadata": {},
   "outputs": [
    {
     "name": "stdout",
     "output_type": "stream",
     "text": [
      "https://www.analyticsvidhya.com/blog/2021/08/quick-hacks-to-save-machine-learning-model-using-pickle-and-joblib/\n",
      "url raw path:  /blog/2021/08/quick-hacks-to-save-machine-learning-model-using-pickle-and-joblib/\n",
      "splitted based on /: ['', 'blog', '2021', '08', 'quick-hacks-to-save-machine-learning-model-using-pickle-and-joblib', '']\n",
      "Directory Part: /blog/2021/08/quick-hacks-to-save-machine-learning-model-using-pickle-and-joblib/\n",
      "File Part: 0\n",
      "Parameters Part: \n",
      "[1, 1, 0, 1, 0, 1, 0]\n",
      "The link is Good link\n"
     ]
    }
   ],
   "source": [
    "\n",
    "url = input()\n",
    "z = Url_DataFrame(url)\n",
    "\n",
    "\n",
    "z.df = obj.transform(z.df)\n",
    "\n",
    "\n",
    "l = []\n",
    "\n",
    "l.append(mlp.predict(z.df)[0])\n",
    "l.append(lr.predict(z.df)[0])\n",
    "l.append(svm.predict(z.df)[0])\n",
    "l.append(dtc.predict(z.df)[0])\n",
    "l.append(knn.predict(z.df)[0])\n",
    "l.append(gbc.predict(z.df)[0])\n",
    "l.append(rfc.predict(z.df)[0])\n",
    "\n",
    "sumi = 0\n",
    "\n",
    "for i in l:\n",
    "    if i == 0:\n",
    "        sumi = sumi + 1\n",
    "      \n",
    "    \n",
    "print(l)\n",
    "        \n",
    "if sumi >= 3:\n",
    "    print(\"The link is Good link\")\n",
    "    \n",
    "else:\n",
    "    print(\"The link is phishing link\")"
   ]
  }
 ],
 "metadata": {
  "kernelspec": {
   "display_name": "Python 3",
   "language": "python",
   "name": "python3"
  },
  "language_info": {
   "codemirror_mode": {
    "name": "ipython",
    "version": 3
   },
   "file_extension": ".py",
   "mimetype": "text/x-python",
   "name": "python",
   "nbconvert_exporter": "python",
   "pygments_lexer": "ipython3",
   "version": "3.8.8"
  }
 },
 "nbformat": 4,
 "nbformat_minor": 5
}
